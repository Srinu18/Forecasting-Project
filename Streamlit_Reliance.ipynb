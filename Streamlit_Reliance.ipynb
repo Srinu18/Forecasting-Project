{
  "cells": [
    {
      "cell_type": "code",
      "execution_count": 1,
      "metadata": {
        "id": "J0f_m8GZuFfw"
      },
      "outputs": [],
      "source": [
        "!pip install streamlit -q"
      ]
    },
    {
      "cell_type": "code",
      "execution_count": 2,
      "metadata": {
        "colab": {
          "base_uri": "https://localhost:8080/"
        },
        "id": "CYljhQIzb5A8",
        "outputId": "89d49b1f-f930-44b7-b5d3-37db1887c1ed"
      },
      "outputs": [
        {
          "output_type": "stream",
          "name": "stdout",
          "text": [
            "Looking in indexes: https://pypi.org/simple, https://us-python.pkg.dev/colab-wheels/public/simple/\n",
            "Requirement already satisfied: prophet in /usr/local/lib/python3.8/dist-packages (1.1.2)\n",
            "Requirement already satisfied: matplotlib>=2.0.0 in /usr/local/lib/python3.8/dist-packages (from prophet) (3.5.3)\n",
            "Requirement already satisfied: python-dateutil>=2.8.0 in /usr/local/lib/python3.8/dist-packages (from prophet) (2.8.2)\n",
            "Requirement already satisfied: tqdm>=4.36.1 in /usr/local/lib/python3.8/dist-packages (from prophet) (4.64.1)\n",
            "Requirement already satisfied: numpy>=1.15.4 in /usr/local/lib/python3.8/dist-packages (from prophet) (1.22.4)\n",
            "Requirement already satisfied: LunarCalendar>=0.0.9 in /usr/local/lib/python3.8/dist-packages (from prophet) (0.0.9)\n",
            "Requirement already satisfied: cmdstanpy>=1.0.4 in /usr/local/lib/python3.8/dist-packages (from prophet) (1.1.0)\n",
            "Requirement already satisfied: pandas>=1.0.4 in /usr/local/lib/python3.8/dist-packages (from prophet) (1.3.5)\n",
            "Requirement already satisfied: convertdate>=2.1.2 in /usr/local/lib/python3.8/dist-packages (from prophet) (2.4.0)\n",
            "Requirement already satisfied: holidays>=0.14.2 in /usr/local/lib/python3.8/dist-packages (from prophet) (0.20)\n",
            "Requirement already satisfied: pymeeus<=1,>=0.3.13 in /usr/local/lib/python3.8/dist-packages (from convertdate>=2.1.2->prophet) (0.5.12)\n",
            "Requirement already satisfied: korean-lunar-calendar in /usr/local/lib/python3.8/dist-packages (from holidays>=0.14.2->prophet) (0.3.1)\n",
            "Requirement already satisfied: hijri-converter in /usr/local/lib/python3.8/dist-packages (from holidays>=0.14.2->prophet) (2.2.4)\n",
            "Requirement already satisfied: pytz in /usr/local/lib/python3.8/dist-packages (from LunarCalendar>=0.0.9->prophet) (2022.7.1)\n",
            "Requirement already satisfied: ephem>=3.7.5.3 in /usr/local/lib/python3.8/dist-packages (from LunarCalendar>=0.0.9->prophet) (4.1.4)\n",
            "Requirement already satisfied: kiwisolver>=1.0.1 in /usr/local/lib/python3.8/dist-packages (from matplotlib>=2.0.0->prophet) (1.4.4)\n",
            "Requirement already satisfied: cycler>=0.10 in /usr/local/lib/python3.8/dist-packages (from matplotlib>=2.0.0->prophet) (0.11.0)\n",
            "Requirement already satisfied: fonttools>=4.22.0 in /usr/local/lib/python3.8/dist-packages (from matplotlib>=2.0.0->prophet) (4.38.0)\n",
            "Requirement already satisfied: packaging>=20.0 in /usr/local/lib/python3.8/dist-packages (from matplotlib>=2.0.0->prophet) (23.0)\n",
            "Requirement already satisfied: pillow>=6.2.0 in /usr/local/lib/python3.8/dist-packages (from matplotlib>=2.0.0->prophet) (8.4.0)\n",
            "Requirement already satisfied: pyparsing>=2.2.1 in /usr/local/lib/python3.8/dist-packages (from matplotlib>=2.0.0->prophet) (3.0.9)\n",
            "Requirement already satisfied: six>=1.5 in /usr/local/lib/python3.8/dist-packages (from python-dateutil>=2.8.0->prophet) (1.15.0)\n"
          ]
        }
      ],
      "source": [
        "pip install prophet"
      ]
    },
    {
      "cell_type": "code",
      "execution_count": 3,
      "metadata": {
        "colab": {
          "base_uri": "https://localhost:8080/"
        },
        "id": "53CtoJ8-eRIR",
        "outputId": "8c3d9eb2-873c-4746-e430-3daab8eb94c0"
      },
      "outputs": [
        {
          "output_type": "stream",
          "name": "stdout",
          "text": [
            "Overwriting app.py\n"
          ]
        }
      ],
      "source": [
        "%%writefile app.py\n",
        "import streamlit as st\n",
        "import pandas as pd\n",
        "import numpy as np\n",
        "import matplotlib.pyplot as plt\n",
        "from prophet import Prophet\n",
        "from prophet.diagnostics import performance_metrics\n",
        "from prophet.diagnostics import cross_validation\n",
        "from prophet.plot import plot_cross_validation_metric\n",
        "import base64\n",
        "from itertools import cycle\n",
        "import plotly.express as px\n",
        "\n",
        "st.title('Reliance_Stock Forecasting of next 30days using Streamlit')\n",
        "st.subheader('By Srinu Guddala')\n",
        "\n",
        "st.write(\"IMPORT DATA\")\n",
        "st.write(\"Import the time series csv file. It should have two columns labelled as 'ds' and 'y'.The 'ds' column should be of datetime format by Pandas. The 'y' column must be numeric representing the measurement to be forecasted.\")\n",
        "\n",
        "data = st.file_uploader('Upload here',type='csv')\n",
        "\n",
        "if data is not None:\n",
        "    new_names = ['ds', 'y']\n",
        "    appdata = pd.read_csv(data,names=new_names,header=0,usecols=[0,1])\n",
        "    appdata['ds'] = pd.to_datetime(appdata['ds'],errors='coerce') \n",
        "    \n",
        "    st.write(data)\n",
        "    \n",
        "    max_date = appdata['ds'].max()\n",
        "\n",
        "st.write(\"SELECT FORECAST PERIOD\")\n",
        "\n",
        "periods_input = st.slider('How many days forecast do you want?',min_value = 1, max_value = 30)\n",
        "             \n",
        "if data is not None:\n",
        "    obj = Prophet()\n",
        "    obj.fit(appdata)\n",
        "\n",
        "st.write(\"VISUALIZE FORECASTED DATA\")\n",
        "st.write(\"The following plot shows future predicted values. 'yhat' is the predicted value; upper and lower limits are 80% confidence intervals by default\")\n",
        "\n",
        "if data is not None:\n",
        "    future = obj.make_future_dataframe(periods=periods_input)\n",
        "    \n",
        "    fcst = obj.predict(future)\n",
        "    forecast = fcst[['ds', 'yhat', 'yhat_lower', 'yhat_upper']]\n",
        "\n",
        "    forecast_filtered =  forecast[forecast['ds'] > max_date]    \n",
        "    st.write(forecast_filtered)\n",
        "\n",
        "    \n",
        "    st.write(\"The next visual shows the actual (black dots) and predicted (blue line) values over time.\")    \n",
        "\n",
        "    figure1 = obj.plot(fcst)\n",
        "    st.write(figure1)\n",
        " \n",
        "    \n",
        "    st.write(\"The next few visuals show a high level trend of predicted values, day of week trends, and yearly trends (if dataset covers multiple years). The blue shaded area represents upper and lower confidence intervals.\")\n",
        "      \n",
        "\n",
        "    figure2 = obj.plot_components(fcst)\n",
        "    st.write(figure2)\n",
        "\n",
        "\n"
      ]
    },
    {
      "cell_type": "markdown",
      "metadata": {
        "id": "iT-uahM_xGBV"
      },
      "source": [
        "# Local Tunnel concept\n"
      ]
    },
    {
      "cell_type": "code",
      "execution_count": null,
      "metadata": {
        "colab": {
          "base_uri": "https://localhost:8080/"
        },
        "id": "GpTSyqU6xJo4",
        "outputId": "3b459fac-84c3-459a-e187-bdc84e61801d"
      },
      "outputs": [
        {
          "output_type": "stream",
          "name": "stdout",
          "text": [
            "\u001b[K\u001b[?25h\n",
            "Collecting usage statistics. To deactivate, set browser.gatherUsageStats to False.\n",
            "\u001b[0m\n",
            "npx: installed 22 in 3.453s\n",
            "\u001b[0m\n",
            "\u001b[34m\u001b[1m  You can now view your Streamlit app in your browser.\u001b[0m\n",
            "\u001b[0m\n",
            "\u001b[34m  Network URL: \u001b[0m\u001b[1mhttp://172.28.0.12:8501\u001b[0m\n",
            "\u001b[34m  External URL: \u001b[0m\u001b[1mhttp://34.125.238.115:8501\u001b[0m\n",
            "\u001b[0m\n",
            "your url is: https://sharp-carrots-train-34-125-238-115.loca.lt\n",
            "2023-03-03 13:36:58.095 Disabling daily seasonality. Run prophet with daily_seasonality=True to override this.\n",
            "2023-03-03 13:36:58.123 input tempfile: /tmp/tmps_hhyj7n/wyfwfg84.json\n",
            "2023-03-03 13:36:58.224 input tempfile: /tmp/tmps_hhyj7n/e6sklnne.json\n",
            "2023-03-03 13:36:58.225 idx 0\n",
            "2023-03-03 13:36:58.225 running CmdStan, num_threads: None\n",
            "2023-03-03 13:36:58.225 CmdStan args: ['/usr/local/lib/python3.8/dist-packages/prophet/stan_model/prophet_model.bin', 'random', 'seed=68211', 'data', 'file=/tmp/tmps_hhyj7n/wyfwfg84.json', 'init=/tmp/tmps_hhyj7n/e6sklnne.json', 'output', 'file=/tmp/tmps_hhyj7n/prophet_modelohle3_lo/prophet_model-20230303133658.csv', 'method=optimize', 'algorithm=lbfgs', 'iter=10000']\n",
            "13:36:58 - cmdstanpy - INFO - Chain [1] start processing\n",
            "2023-03-03 13:36:58.225 Chain [1] start processing\n",
            "13:36:59 - cmdstanpy - INFO - Chain [1] done processing\n",
            "2023-03-03 13:36:59.013 Chain [1] done processing\n",
            "2023-03-03 13:37:13.184 Disabling daily seasonality. Run prophet with daily_seasonality=True to override this.\n",
            "2023-03-03 13:37:13.212 input tempfile: /tmp/tmps_hhyj7n/8l4c5nmq.json\n",
            "2023-03-03 13:37:13.316 input tempfile: /tmp/tmps_hhyj7n/mjjaspnm.json\n",
            "2023-03-03 13:37:13.317 idx 0\n",
            "2023-03-03 13:37:13.318 running CmdStan, num_threads: None\n",
            "2023-03-03 13:37:13.318 CmdStan args: ['/usr/local/lib/python3.8/dist-packages/prophet/stan_model/prophet_model.bin', 'random', 'seed=16817', 'data', 'file=/tmp/tmps_hhyj7n/8l4c5nmq.json', 'init=/tmp/tmps_hhyj7n/mjjaspnm.json', 'output', 'file=/tmp/tmps_hhyj7n/prophet_modellzj2z1p7/prophet_model-20230303133713.csv', 'method=optimize', 'algorithm=lbfgs', 'iter=10000']\n",
            "13:37:13 - cmdstanpy - INFO - Chain [1] start processing\n",
            "2023-03-03 13:37:13.318 Chain [1] start processing\n",
            "13:37:14 - cmdstanpy - INFO - Chain [1] done processing\n",
            "2023-03-03 13:37:14.133 Chain [1] done processing\n",
            "2023-03-03 13:37:15.014 Disabling daily seasonality. Run prophet with daily_seasonality=True to override this.\n",
            "2023-03-03 13:37:15.052 input tempfile: /tmp/tmps_hhyj7n/j3wwvqy9.json\n",
            "2023-03-03 13:37:15.247 input tempfile: /tmp/tmps_hhyj7n/hwv64fua.json\n",
            "2023-03-03 13:37:15.249 idx 0\n",
            "2023-03-03 13:37:15.249 running CmdStan, num_threads: None\n",
            "2023-03-03 13:37:15.250 CmdStan args: ['/usr/local/lib/python3.8/dist-packages/prophet/stan_model/prophet_model.bin', 'random', 'seed=14624', 'data', 'file=/tmp/tmps_hhyj7n/j3wwvqy9.json', 'init=/tmp/tmps_hhyj7n/hwv64fua.json', 'output', 'file=/tmp/tmps_hhyj7n/prophet_modeloz64z453/prophet_model-20230303133715.csv', 'method=optimize', 'algorithm=lbfgs', 'iter=10000']\n",
            "13:37:15 - cmdstanpy - INFO - Chain [1] start processing\n",
            "2023-03-03 13:37:15.250 Chain [1] start processing\n",
            "13:37:16 - cmdstanpy - INFO - Chain [1] done processing\n",
            "2023-03-03 13:37:16.443 Chain [1] done processing\n"
          ]
        }
      ],
      "source": [
        "!streamlit run app.py & npx localtunnel --port 8501"
      ]
    }
  ],
  "metadata": {
    "colab": {
      "provenance": []
    },
    "kernelspec": {
      "display_name": "Python 3",
      "name": "python3"
    },
    "language_info": {
      "name": "python"
    }
  },
  "nbformat": 4,
  "nbformat_minor": 0
}